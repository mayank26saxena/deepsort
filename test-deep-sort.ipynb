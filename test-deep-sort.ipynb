{
 "cells": [
  {
   "cell_type": "code",
   "execution_count": 1,
   "metadata": {},
   "outputs": [
    {
     "name": "stderr",
     "output_type": "stream",
     "text": [
      "/anaconda2/lib/python2.7/site-packages/h5py/__init__.py:36: FutureWarning: Conversion of the second argument of issubdtype from `float` to `np.floating` is deprecated. In future, it will be treated as `np.float64 == np.dtype(float).type`.\n",
      "  from ._conv import register_converters as _register_converters\n",
      "Using TensorFlow backend.\n"
     ]
    }
   ],
   "source": [
    "import os\n",
    "import random\n",
    "\n",
    "# suppress the TensorFlow warning\n",
    "os.environ['TF_CPP_MIN_LOG_LEVEL']='2'\n",
    "\n",
    "import numpy as  np\n",
    "from keras.models import load_model"
   ]
  },
  {
   "cell_type": "code",
   "execution_count": 2,
   "metadata": {},
   "outputs": [],
   "source": [
    "def encode(X,seq_len, vocab_size):\n",
    "    x = np.zeros((len(X),seq_len, vocab_size), dtype=np.float32)\n",
    "    for ind,batch in enumerate(X):\n",
    "        for j, elem in enumerate(batch):\n",
    "            x[ind, j, elem] = 1\n",
    "    return x"
   ]
  },
  {
   "cell_type": "code",
   "execution_count": 7,
   "metadata": {},
   "outputs": [],
   "source": [
    "model = load_model('model.h5')"
   ]
  },
  {
   "cell_type": "code",
   "execution_count": 8,
   "metadata": {},
   "outputs": [],
   "source": [
    "seq_len = 15 # number of elements in sequence to sort\n",
    "max_no = 100 # upper range of the numbers in sequence\n",
    "verbose = False\n",
    "win_cnt = 0\n",
    "numb_trials = 1000"
   ]
  },
  {
   "cell_type": "code",
   "execution_count": 9,
   "metadata": {},
   "outputs": [
    {
     "name": "stdout",
     "output_type": "stream",
     "text": [
      "\n",
      "Success Rate: 88.00 %\n"
     ]
    }
   ],
   "source": [
    "for ii in range(numb_trials):\n",
    "    testX = np.random.randint(max_no, size=(1, seq_len))\n",
    "    test = encode(testX, seq_len, max_no)\n",
    "    y = model.predict(test, batch_size=1)\n",
    "    #print(testX)\n",
    "    np_sorted = np.sort(testX)[0]\n",
    "    rnn_sorted = np.argmax(y, axis=2)[0]\n",
    "    is_equal = np.array_equal(np_sorted, rnn_sorted)\n",
    "    if is_equal: win_cnt += 1\n",
    "    #print(np_sorted, ': sorted by NumPy algorithm')\n",
    "    #print(rnn_sorted, ': sorted by trained RNN')\n",
    "    #print(\"\\n\")\n",
    "\n",
    "print('\\nSuccess Rate: {0:.2f} %'.format(100*win_cnt/numb_trials))"
   ]
  }
 ],
 "metadata": {
  "kernelspec": {
   "display_name": "Python 2",
   "language": "python",
   "name": "python2"
  },
  "language_info": {
   "codemirror_mode": {
    "name": "ipython",
    "version": 2
   },
   "file_extension": ".py",
   "mimetype": "text/x-python",
   "name": "python",
   "nbconvert_exporter": "python",
   "pygments_lexer": "ipython2",
   "version": "2.7.14"
  }
 },
 "nbformat": 4,
 "nbformat_minor": 2
}
